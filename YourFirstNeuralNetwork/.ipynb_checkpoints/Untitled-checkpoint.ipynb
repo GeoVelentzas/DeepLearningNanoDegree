{
 "cells": [
  {
   "cell_type": "code",
   "execution_count": 1,
   "metadata": {
    "collapsed": true
   },
   "outputs": [],
   "source": [
    "import numpy as np\n",
    "import pandas as pd"
   ]
  },
  {
   "cell_type": "code",
   "execution_count": 57,
   "metadata": {
    "collapsed": false
   },
   "outputs": [
    {
     "name": "stdout",
     "output_type": "stream",
     "text": [
      "5.0\n",
      "24.9685816327\n",
      "33.8430442474\n",
      "1.91245119518\n",
      "0.914254694811\n",
      "40.0516958889\n",
      "110.752683775\n",
      "(2, 3)\n"
     ]
    }
   ],
   "source": [
    "X = np.array([[1.0, 2, 3], [3, 4, 5], [3, 5, 5], [1, 1, 3], [0, 1, 2],[4,5,7], [7,8,1]])\n",
    "Wih = np.array([[0.0, 0],[0, 0],[0, 0]]) #three inputs two units\n",
    "Who = np.array([[0.0,0],[0,0]]) #two hidden two outputs\n",
    "Y = np.array([[1, 2],[3, 4], [3, 5], [1, 1], [0, 1], [4,5],[7,8]])\n",
    "#print(x); print()\n",
    "#print(Wih); print()\n",
    "#print(Who); print()\n",
    "#print(a)\n",
    "eta = 0.02\n",
    "m = X.shape[0]\n",
    "\n",
    "def sigmoid(x):\n",
    "    return 1/(1+np.exp(-x))\n",
    "\n",
    "deltawho = Who*0.0\n",
    "deltawih = Wih*0.0\n",
    "for x,y in zip(X,Y):\n",
    "    #forward\n",
    "    intohidden = np.matmul(x,Wih)\n",
    "    outhidden = sigmoid(intohidden)\n",
    "    intoout = np.matmul(outhidden, Who)\n",
    "    out = intoout\n",
    "\n",
    "    #backward\n",
    "    error = y-out\n",
    "    d_out = error #since the derivative is 1\n",
    "    d_hidden = np.matmul(Who, d_out)*outhidden*(1-outhidden)   \n",
    "            \n",
    "    #print(np.matmul(d_out[:,np.newaxis], outhidden[np.newaxis,:]))\n",
    "    deltawho +=  np.matmul(outhidden[:, np.newaxis], d_out[np.newaxis, :])\n",
    "    deltawih +=  np.matmul(x[:, np.newaxis], d_hidden[np.newaxis, :])\n",
    "    \n",
    "    Who += eta*deltawho/m\n",
    "    Wih += eta*deltawih/m \n",
    "    \n",
    "    print(np.multiply(error, error).sum())\n"
   ]
  }
 ],
 "metadata": {
  "kernelspec": {
   "display_name": "Python 3",
   "language": "python",
   "name": "python3"
  },
  "language_info": {
   "codemirror_mode": {
    "name": "ipython",
    "version": 3
   },
   "file_extension": ".py",
   "mimetype": "text/x-python",
   "name": "python",
   "nbconvert_exporter": "python",
   "pygments_lexer": "ipython3",
   "version": "3.6.1"
  }
 },
 "nbformat": 4,
 "nbformat_minor": 2
}
